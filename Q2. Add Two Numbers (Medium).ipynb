{
 "cells": [
  {
   "cell_type": "markdown",
   "metadata": {},
   "source": [
    "### Add Two Numbers\n",
    "You are given two __non-empty__ linked lists representing two __non-negative__ integers. The digits are stored in reverse order and each of their nodes contain a single digit. Add the two numbers and return it as a linked list.<br>\n",
    "You may assume the two numbers do not contain any leading zero, except the number 0 itself.<br>\n",
    "__Example__ <br>"
   ]
  },
  {
   "cell_type": "markdown",
   "metadata": {},
   "source": [
    "<img src='imgs/Q002-1.JPG'>"
   ]
  },
  {
   "cell_type": "markdown",
   "metadata": {},
   "source": [
    "The given definition of a singly-linked list is as follows:"
   ]
  },
  {
   "cell_type": "code",
   "execution_count": 1,
   "metadata": {
    "collapsed": true
   },
   "outputs": [],
   "source": [
    "# Definition for singly-linked list.\n",
    "class ListNode:\n",
    "    def __init__(self, x):\n",
    "        self.val = x\n",
    "        self.next = None"
   ]
  },
  {
   "cell_type": "markdown",
   "metadata": {},
   "source": [
    "#### Simple tests on the given ListNode class"
   ]
  },
  {
   "cell_type": "code",
   "execution_count": 2,
   "metadata": {
    "collapsed": false
   },
   "outputs": [
    {
     "name": "stdout",
     "output_type": "stream",
     "text": [
      "0 None True\n",
      "2 None True\n",
      "0 None True\n"
     ]
    }
   ],
   "source": [
    "l1 = ListNode(0)\n",
    "l2 = ListNode(2)\n",
    "l3 = l1\n",
    "\n",
    "print(l1.val, l1.next, bool(l1))\n",
    "print(l2.val, l2.next, bool(l2))\n",
    "print(l3.val, l3.next, bool(l3))"
   ]
  },
  {
   "cell_type": "code",
   "execution_count": 3,
   "metadata": {
    "collapsed": false
   },
   "outputs": [
    {
     "name": "stdout",
     "output_type": "stream",
     "text": [
      "0 <__main__.ListNode object at 0x000001E4EE85C668>\n",
      "2 None\n",
      "0 <__main__.ListNode object at 0x000001E4EE85C668>\n"
     ]
    }
   ],
   "source": [
    "l3.next = l2\n",
    "\n",
    "print(l1.val, l1.next)\n",
    "print(l2.val, l2.next)\n",
    "print(l3.val, l3.next)"
   ]
  },
  {
   "cell_type": "markdown",
   "metadata": {},
   "source": [
    "#### Take extra caution of the following cases\n",
    "<img src='imgs/Q002-2.JPG'> <br>\n",
    "#### Approach: Elementary Math\n",
    "Keep track of the carry using a variable and simulate digits-by-digits sum starting from the head of list, which contains the least-significant digit. <br>\n",
    "Visualization of the addition of two numbers, 342 + 465 = 807, is illstrated as follows: <br>\n",
    "<img src='imgs/Q002-3.JPG'> <br>\n",
    "As we can see, each list node contains a single digit and the digits are stored in reverse order. <br>\n",
    "A more straightforward process has been given in the following GIF: <br>\n",
    "<img src='imgs/Q002-4.gif'> <br>\n",
    "\n",
    "\n",
    "The pseudocode is as following: <br>\n",
    "1. Initialize carry to 0 \n",
    "2. Initialize current node 0 to dummy head of the returning list\n",
    "3. Initialize result tail as the dummy head\n",
    "4. Loop through lists l1 and l2 until you reach both ends, and carry also equals to 0:\n",
    "    - Set value1 to node l1's value. If l1 has reached the end, set to 0.\n",
    "    - Set value2 to node l2's value. If l2 has reached the end, set to 0.\n",
    "    - Update carry, remainder\n",
    "    - Create a new node with the value of remainder and set it to current node's next, then advance current node to next.\n",
    "    - Advance both l1 and l2\n",
    "5. Return dummy head's next node.\n",
    "    \n",
    "__Note:__ We use a dummy head to simplify the code. Without a dummy head, you would have to write extra conditional statements to initialize the head's value.   "
   ]
  },
  {
   "cell_type": "markdown",
   "metadata": {},
   "source": [
    "#### Code"
   ]
  },
  {
   "cell_type": "code",
   "execution_count": 4,
   "metadata": {
    "collapsed": false
   },
   "outputs": [],
   "source": [
    "# class Solution:\n",
    "#     def addTwoNumbers(self, l1: ListNode, l2: ListNode) -> ListNode:\n",
    "def addTwoNumbers(l1: ListNode, l2: ListNode) -> ListNode:\n",
    "    carry = 0\n",
    "    dummy_head = ListNode(0)\n",
    "    result_tail = dummy_head\n",
    "    \n",
    "    # stop the loop if both l1 and l2 are empty while carry is 0\n",
    "    while l1 or l2 or carry:\n",
    "        # starts from the least-significant digits in both l1 and l2\n",
    "        value1 = (l1.val if l1 else 0)\n",
    "        value2 = (l2.val if l2 else 0)\n",
    "        \n",
    "        carry, remainder = divmod(value1 + value2 + carry, 10)\n",
    "        \n",
    "        # update the next value of the result_tail so that it will point to the newly calculated remainder\n",
    "        result_tail.next = ListNode(remainder)\n",
    "        # move the result_tail forward to the ListNode(remainder) which it points to\n",
    "        result_tail = result_tail.next\n",
    "        \n",
    "        # move on to the next digit\n",
    "        l1 = (l1.next if l1 else None)\n",
    "        l2 = (l2.next if l2 else None)\n",
    "        \n",
    "    return dummy_head.next"
   ]
  },
  {
   "cell_type": "markdown",
   "metadata": {},
   "source": [
    "#### Test Case 1\n",
    "l1 = [2, 4, 3]<br>\n",
    "l2 = [5, 6, 3]"
   ]
  },
  {
   "cell_type": "code",
   "execution_count": 5,
   "metadata": {
    "collapsed": true
   },
   "outputs": [],
   "source": [
    "l1 = ListNode(2)\n",
    "l1.next = ListNode(4)\n",
    "l1.next.next = ListNode(3)\n",
    "\n",
    "l2 = ListNode(5)\n",
    "l2.next = ListNode(6)\n",
    "l2.next.next = ListNode(3)"
   ]
  },
  {
   "cell_type": "code",
   "execution_count": 6,
   "metadata": {
    "collapsed": false
   },
   "outputs": [
    {
     "name": "stdout",
     "output_type": "stream",
     "text": [
      "7 0 7 None\n"
     ]
    }
   ],
   "source": [
    "result = addTwoNumbers(l1, l2)\n",
    "print(result.val, result.next.val, result.next.next.val, result.next.next.next)"
   ]
  },
  {
   "cell_type": "markdown",
   "metadata": {},
   "source": [
    "#### Test Case 2\n",
    "l1 = [0, 1]<br>\n",
    "l2 = [0, 1, 2]"
   ]
  },
  {
   "cell_type": "code",
   "execution_count": 7,
   "metadata": {
    "collapsed": false
   },
   "outputs": [],
   "source": [
    "l1 = ListNode(0)\n",
    "l1.next = ListNode(1)\n",
    "\n",
    "l2 = ListNode(0)\n",
    "l2.next = ListNode(1)\n",
    "l2.next.next = ListNode(2)"
   ]
  },
  {
   "cell_type": "code",
   "execution_count": 8,
   "metadata": {
    "collapsed": false
   },
   "outputs": [
    {
     "name": "stdout",
     "output_type": "stream",
     "text": [
      "0 2 2 None\n"
     ]
    }
   ],
   "source": [
    "result = addTwoNumbers(l1, l2)\n",
    "print(result.val, result.next.val, result.next.next.val, result.next.next.next)"
   ]
  },
  {
   "cell_type": "markdown",
   "metadata": {},
   "source": [
    "#### Test Case 3\n",
    "l1 = []<br>\n",
    "l2 = [0, 1]"
   ]
  },
  {
   "cell_type": "code",
   "execution_count": 9,
   "metadata": {
    "collapsed": true
   },
   "outputs": [],
   "source": [
    "l1 = None\n",
    "\n",
    "l2 = ListNode(0)\n",
    "l2.next = ListNode(1)"
   ]
  },
  {
   "cell_type": "code",
   "execution_count": 10,
   "metadata": {
    "collapsed": false
   },
   "outputs": [
    {
     "name": "stdout",
     "output_type": "stream",
     "text": [
      "0 1 None\n"
     ]
    }
   ],
   "source": [
    "result = addTwoNumbers(l1, l2)\n",
    "print(result.val, result.next.val, result.next.next)"
   ]
  },
  {
   "cell_type": "markdown",
   "metadata": {
    "collapsed": false
   },
   "source": [
    "#### Test Case 4\n",
    "l1 = [9, 9]<br>\n",
    "l2 = [1]"
   ]
  },
  {
   "cell_type": "code",
   "execution_count": 11,
   "metadata": {
    "collapsed": false
   },
   "outputs": [],
   "source": [
    "l1 = ListNode(9)\n",
    "l1.next = ListNode(9)\n",
    "\n",
    "l2 = ListNode(1)"
   ]
  },
  {
   "cell_type": "code",
   "execution_count": 12,
   "metadata": {
    "collapsed": false
   },
   "outputs": [
    {
     "name": "stdout",
     "output_type": "stream",
     "text": [
      "0 0 1 None\n"
     ]
    }
   ],
   "source": [
    "result = addTwoNumbers(l1, l2)\n",
    "print(result.val, result.next.val, result.next.next.val, result.next.next.next)"
   ]
  }
 ],
 "metadata": {
  "anaconda-cloud": {},
  "kernelspec": {
   "display_name": "Python [default]",
   "language": "python",
   "name": "python3"
  },
  "language_info": {
   "codemirror_mode": {
    "name": "ipython",
    "version": 3
   },
   "file_extension": ".py",
   "mimetype": "text/x-python",
   "name": "python",
   "nbconvert_exporter": "python",
   "pygments_lexer": "ipython3",
   "version": "3.5.5"
  }
 },
 "nbformat": 4,
 "nbformat_minor": 2
}
