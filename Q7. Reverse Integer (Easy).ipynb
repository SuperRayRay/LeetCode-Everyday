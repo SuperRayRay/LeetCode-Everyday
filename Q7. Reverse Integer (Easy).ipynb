{
 "cells": [
  {
   "cell_type": "markdown",
   "metadata": {},
   "source": [
    "### Reverse Integer\n",
    "Given a 32-bit signed integer, reverse digits of an integer. <br>\n",
    "\n",
    "__Example 1__ <br>\n",
    "__Input:__ 123 <br>\n",
    "__Output:__ 321 <br>\n",
    "\n",
    "__Example 2__ <br>\n",
    "__Input:__ -123 <br>\n",
    "__Output:__ -321 <br>\n",
    "\n",
    "__Example 3__ <br>\n",
    "__Input:__ 120 <br>\n",
    "__Output:__ 21 <br>\n",
    "\n",
    "__Example 4__ <br>\n",
    "__Input:__ 1534236469 <br> \n",
    "__Output:__ 0 <br>\n",
    "\n",
    "__Example 5__ <br>\n",
    "__Input:__ -1534236469 <br>\n",
    "__Output:__ 0 <br>\n",
    "\n",
    "__Note:__ <br> \n",
    "Assume we are dealing with an environment which could only store integers within the 32-bit signed integer range: [−2<sup>31</sup>,  2<sup>31</sup> − 1]. For the purpose of this problem, assume that your function returns 0 when the reversed integer overflows.\n",
    " "
   ]
  },
  {
   "cell_type": "markdown",
   "metadata": {},
   "source": [
    "### Approach 1\n",
    "Use the accumulation of the remainder times 10 to solve the integer reverse problem.\n",
    "__Note:__ Since Python uses the \"round down\" mechanism for integer division, positive and negative integers should be treated differently.\n",
    "#### Code"
   ]
  },
  {
   "cell_type": "code",
   "execution_count": 1,
   "metadata": {
    "collapsed": true
   },
   "outputs": [],
   "source": [
    "# class Solution:\n",
    "#     def reverse(self, x: int) -> int:\n",
    "def reverse(x: int) -> int:\n",
    "    if x>=-pow(2, 31) and x<=pow(2, 31)-1:\n",
    "        \n",
    "        sign = pow(-1, 0) if x>=0 else pow(-1, 1)\n",
    "        x = abs(x)\n",
    "        x_reverse = 0\n",
    "        \n",
    "        while x:\n",
    "            x_reverse = (x_reverse*10 + x%10)\n",
    "            x = x//10\n",
    "                \n",
    "        return sign*x_reverse if (sign*x_reverse >=-pow(2, 31) and sign*x_reverse<=pow(2, 31)-1) else 0\n",
    "    \n",
    "    else:\n",
    "        return 0"
   ]
  },
  {
   "cell_type": "code",
   "execution_count": 2,
   "metadata": {
    "collapsed": false
   },
   "outputs": [
    {
     "name": "stdout",
     "output_type": "stream",
     "text": [
      "321\n",
      "-321\n",
      "21\n",
      "0\n",
      "0\n"
     ]
    }
   ],
   "source": [
    "print(reverse(123))\n",
    "print(reverse(-123))\n",
    "print(reverse(120))\n",
    "print(reverse(1534236469))\n",
    "print(reverse(-1534236469))"
   ]
  },
  {
   "cell_type": "markdown",
   "metadata": {},
   "source": [
    "### Approach 2 \n",
    "Convert the input integer to string, then reverse the string based on whether the input integer is negative. When all done, convert the reversed string back to integer.\n",
    "#### Code "
   ]
  },
  {
   "cell_type": "code",
   "execution_count": 3,
   "metadata": {
    "collapsed": true
   },
   "outputs": [],
   "source": [
    "# class Solution:\n",
    "#     def reverse(self, x: int) -> int:\n",
    "def reverse(x: int) -> int:\n",
    "    if x>=-pow(2, 31) and x<=pow(2, 31)-1:\n",
    "        \n",
    "        x_string = str(x)\n",
    "        x_reverse = ''\n",
    "        \n",
    "        if x_string[0] != '-':\n",
    "            for i in range(len(x_string)):\n",
    "                x_reverse += x_string[len(x_string)-1-i]\n",
    "        else:\n",
    "            for i in range(len(x_string)):\n",
    "                x_reverse +=  (x_string[0] if i==0 else x_string[len(x_string)-i])\n",
    "                \n",
    "        return int(x_reverse) if (int(x_reverse)>=-pow(2, 31) and int(x_reverse)<=pow(2, 31)-1) else 0\n",
    "    \n",
    "    else:\n",
    "        return 0"
   ]
  },
  {
   "cell_type": "code",
   "execution_count": 4,
   "metadata": {
    "collapsed": false
   },
   "outputs": [
    {
     "name": "stdout",
     "output_type": "stream",
     "text": [
      "321\n",
      "-321\n",
      "21\n",
      "0\n",
      "0\n"
     ]
    }
   ],
   "source": [
    "print(reverse(123))\n",
    "print(reverse(-123))\n",
    "print(reverse(120))\n",
    "print(reverse(1534236469))\n",
    "print(reverse(-1534236469))"
   ]
  }
 ],
 "metadata": {
  "anaconda-cloud": {},
  "kernelspec": {
   "display_name": "Python [default]",
   "language": "python",
   "name": "python3"
  },
  "language_info": {
   "codemirror_mode": {
    "name": "ipython",
    "version": 3
   },
   "file_extension": ".py",
   "mimetype": "text/x-python",
   "name": "python",
   "nbconvert_exporter": "python",
   "pygments_lexer": "ipython3",
   "version": "3.5.5"
  }
 },
 "nbformat": 4,
 "nbformat_minor": 2
}
