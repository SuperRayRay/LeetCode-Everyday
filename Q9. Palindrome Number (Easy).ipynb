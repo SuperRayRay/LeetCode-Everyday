{
 "cells": [
  {
   "cell_type": "markdown",
   "metadata": {},
   "source": [
    "### Palindrome Number\n",
    "Determine whether an integer is a palindrome. An integer is a palindrome when it reads the same backward as forward. <br>\n",
    "\n",
    "__Example 1__ <br>\n",
    "__Input:__ 121 <br>\n",
    "__Output:__ true <br>\n",
    "\n",
    "__Example 2__ <br>\n",
    "__Input:__ -121 <br>\n",
    "__Output:__ false <br>\n",
    "\n",
    "__Example 3__ <br>\n",
    "__Input:__ 10 <br> \n",
    "__Output:__ false <br>\n",
    "__Explain:__ Reads 01 from right to left. Therefore it is not a palindrome. <br>\n",
    "\n",
    "__Follow up:__ <br> \n",
    "Coud you solve it without converting the integer to a string?"
   ]
  },
  {
   "cell_type": "markdown",
   "metadata": {},
   "source": [
    "### Approach 1\n",
    "First of all we should take care of some edge cases. All negative numbers are not palindrome, for example: -123 is not a palindrome since the '-' does not equal to '3'. So we can return __False__ for all negative numbers. <br>\n",
    "\n",
    "As for the reverse of positive integer, we can use the accumulation of the remainder times 10. <br>\n",
    "\n",
    "__Time complexity:__ O(log<sub>10</sub>(n)) since we have divided the positive input by 10 for every iteration.<br>\n",
    "__Space complexity:__ O(1)\n",
    "#### Code"
   ]
  },
  {
   "cell_type": "code",
   "execution_count": 1,
   "metadata": {
    "collapsed": true
   },
   "outputs": [],
   "source": [
    "# class Solution:\n",
    "#     def isPalindrome(self, x: int) -> bool:\n",
    "def isPalindrome(x: int) -> bool:\n",
    "    if x >= 0:\n",
    "        x_reverse = 0\n",
    "        x_flag = x\n",
    "        while x_flag:\n",
    "            x_reverse = x_reverse*10 + x_flag%10\n",
    "            x_flag = x_flag//10\n",
    "        return True if x==x_reverse else False\n",
    "        \n",
    "    else:\n",
    "        return False"
   ]
  },
  {
   "cell_type": "code",
   "execution_count": 2,
   "metadata": {
    "collapsed": false
   },
   "outputs": [
    {
     "name": "stdout",
     "output_type": "stream",
     "text": [
      "True\n",
      "False\n",
      "False\n"
     ]
    }
   ],
   "source": [
    "print(isPalindrome(121))\n",
    "print(isPalindrome(-121))\n",
    "print(isPalindrome(10))"
   ]
  }
 ],
 "metadata": {
  "anaconda-cloud": {},
  "kernelspec": {
   "display_name": "Python [default]",
   "language": "python",
   "name": "python3"
  },
  "language_info": {
   "codemirror_mode": {
    "name": "ipython",
    "version": 3
   },
   "file_extension": ".py",
   "mimetype": "text/x-python",
   "name": "python",
   "nbconvert_exporter": "python",
   "pygments_lexer": "ipython3",
   "version": "3.5.5"
  }
 },
 "nbformat": 4,
 "nbformat_minor": 2
}
