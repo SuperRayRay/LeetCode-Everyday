{
 "cells": [
  {
   "cell_type": "markdown",
   "metadata": {},
   "source": [
    "### Longest Substring Without Repeating Characters\n",
    "Given a string, find the length of the __longest substring__ without repeating characters.<br>\n",
    "\n",
    "__Example 1__ <br>\n",
    "__Input:__ \"abcabcbb\" <br>\n",
    "__Output:__ 3 <br>\n",
    "__Explanation:__ The answer is \"abc\", with the length of 3. <br>\n",
    "\n",
    "__Example 2__ <br>\n",
    "__Input:__ \"bbbbb\" <br>\n",
    "__Output:__ 1 <br>\n",
    "__Explanation:__ The answer is \"b\", with the length of 1. <br>\n",
    "\n",
    "__Example 3__ <br>\n",
    "__Input:__ \"pwwkew\" <br>\n",
    "__Output:__ 3 <br>\n",
    "__Explanation:__ The answer is \"wke\", with the length of 3. <br>\n",
    "__Note:__ The answer must be a __substring__, \"pwke\" is a subsequence and not a substring. <br>\n",
    "\n",
    "__Example 4__ <br>\n",
    "__Input:__ \"abbcc\" <br>\n",
    "__Output:__ 2 <br>\n",
    "__Explanation:__ The answer is \"ab\", with the length of 2. <br>"
   ]
  },
  {
   "cell_type": "markdown",
   "metadata": {},
   "source": [
    "### Approach 1\n",
    "#### Explain\n",
    "Use a __dict__ to map characters to where they appear (index number) in the given list. <br>\n",
    "The __dict__ helps maintaining a sliding window. Characters in this sliding window are not repeated. <br> \n",
    "The size of this sliding window represents the length of the substring without repeating characters, and is measured by the lower and upper window boundary. <br>\n",
    "- If the currently traversed character never appears in the sliding window:\n",
    "     - Update the sliding window by adding a key-value pair which the key is the currently traversed character, and the value is its index in the given string (also can be represented as the current position of the upper window boundary)\n",
    "     - Expand the upper window boundary right by 1 index.\n",
    "- If the currently traversed character has appeared in the sliding window: \n",
    "     - Update the sliding window by deleting the key-value pair which the lower window boundary are pointing to.\n",
    "     - Narrow the window by moving the lower window boundary left by 1 index.\n",
    "     - Continue to check whether this currently traversed character has appeared in the updated sliding window. \n",
    "- Every time when the sliding window increases, update the longest substring by comparing the historical longest substring length to the current sliding window size.\n",
    "- Repeat the previous steps until either lower or upper window boundary exceeds the input string length.\n",
    "\n",
    "The whole process can be illustrated as follows: <br>\n",
    "<img src='imgs/Q003.gif'> \n",
    "\n",
    "#### Code"
   ]
  },
  {
   "cell_type": "code",
   "execution_count": 1,
   "metadata": {
    "collapsed": true
   },
   "outputs": [],
   "source": [
    "# class Solution:\n",
    "#     def lengthOfLongestSubstring(self, s: str) -> int:\n",
    "def lengthOfLongestSubstring(s: str) -> int:\n",
    "    window = {} # sliding window that stores the substring pattern without repeating characters\n",
    "    window_lower = 0\n",
    "    window_upper = 0\n",
    "    max_len = 0 # length of the longest substring without repeating characters\n",
    "    \n",
    "    while window_lower<len(s) and window_upper<len(s):\n",
    "        if s[window_upper] in window: # window shrinking\n",
    "            del window[s[window_lower]]\n",
    "            window_lower += 1\n",
    "        else: # window expanding\n",
    "            window[s[window_upper]] = window_upper\n",
    "            window_upper += 1\n",
    "            \n",
    "            max_len = max(max_len, window_upper-window_lower)\n",
    "            \n",
    "    return max_len"
   ]
  },
  {
   "cell_type": "code",
   "execution_count": 2,
   "metadata": {
    "collapsed": false
   },
   "outputs": [
    {
     "name": "stdout",
     "output_type": "stream",
     "text": [
      "3\n",
      "1\n",
      "3\n",
      "2\n"
     ]
    }
   ],
   "source": [
    "print(lengthOfLongestSubstring('abcabcbb'))\n",
    "print(lengthOfLongestSubstring('bbbbb'))\n",
    "print(lengthOfLongestSubstring('pwwkew'))\n",
    "print(lengthOfLongestSubstring('abbcc'))"
   ]
  },
  {
   "cell_type": "markdown",
   "metadata": {},
   "source": [
    "### Approach 2 - Optimization of Approach 1\n",
    "#### Code"
   ]
  },
  {
   "cell_type": "code",
   "execution_count": 3,
   "metadata": {
    "collapsed": true
   },
   "outputs": [],
   "source": [
    "# class Solution:\n",
    "#     def lengthOfLongestSubstring(self, s: str) -> int:\n",
    "def lengthOfLongestSubstring(s: str) -> int:\n",
    "    # define a variable to store substring without repeating characters from the input string\n",
    "    sub_str = ''\n",
    "    # save the length of the longest substring without repeating characters\n",
    "    max_len = 0\n",
    "    # traverse the input string\n",
    "    for i in range(len(s)):\n",
    "        # If the i-th character already existed in the variable, sub_str,\n",
    "        # delete this duplicate character and all other characters before this character \n",
    "        # from sub_str to make sure that the longest substring pattern has been updated.\n",
    "        if s[i] in sub_str: \n",
    "            # Ex. if the sub_str='abc' and the upcoming character is s[i]='a', then using\n",
    "            # sub_str.split(s[i]) will return a list of the words in sub_str, using s[i] \n",
    "            # as the delimiter string, ['', 'bc']. \n",
    "            # The element with index 1 from the result of sub_str.split(s[i]) is selected\n",
    "            # as the beginning of next substring pattern without repeating characters based\n",
    "            # on the upcoming character s[i].\n",
    "            sub_str = sub_str.split(s[i])[1]\n",
    "        \n",
    "        # add the i-th character to the newly updated substring\n",
    "        sub_str += s[i] \n",
    "        # Compared the length of the newly updated substring and the previous recorded\n",
    "        # longest substring length, update max_len with the larger value between them.\n",
    "        max_len = max(max_len, len(sub_str))\n",
    "        \n",
    "    return max_len"
   ]
  },
  {
   "cell_type": "code",
   "execution_count": 4,
   "metadata": {
    "collapsed": false
   },
   "outputs": [
    {
     "name": "stdout",
     "output_type": "stream",
     "text": [
      "3\n",
      "1\n",
      "3\n",
      "2\n"
     ]
    }
   ],
   "source": [
    "print(lengthOfLongestSubstring('abcabcbb'))\n",
    "print(lengthOfLongestSubstring('bbbbb'))\n",
    "print(lengthOfLongestSubstring('pwwkew'))\n",
    "print(lengthOfLongestSubstring('abbcc'))"
   ]
  }
 ],
 "metadata": {
  "anaconda-cloud": {},
  "kernelspec": {
   "display_name": "Python [default]",
   "language": "python",
   "name": "python3"
  },
  "language_info": {
   "codemirror_mode": {
    "name": "ipython",
    "version": 3
   },
   "file_extension": ".py",
   "mimetype": "text/x-python",
   "name": "python",
   "nbconvert_exporter": "python",
   "pygments_lexer": "ipython3",
   "version": "3.5.5"
  }
 },
 "nbformat": 4,
 "nbformat_minor": 2
}
